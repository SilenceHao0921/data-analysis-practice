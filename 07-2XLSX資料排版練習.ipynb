{
 "cells": [
  {
   "cell_type": "markdown",
   "id": "1e12e22a-7f7e-4572-9702-955131ecf3c2",
   "metadata": {},
   "source": [
    "# 2025/8/15 pandas模組(銷售業績XLSX檔為範例)"
   ]
  },
  {
   "cell_type": "code",
   "execution_count": 1,
   "id": "87918925-7e98-4ac1-8356-d249db442454",
   "metadata": {},
   "outputs": [
    {
     "name": "stdout",
     "output_type": "stream",
     "text": [
      "歷年各據點來客總人數:\n",
      "        據點       人數\n",
      "十七公里自行車道人次  2512886\n",
      "    十八尖山人次  5948592\n",
      "     城隍廟人次 11013937\n",
      "    新竹公園人次 10163123\n",
      "    新竹漁港人次 18171954\n",
      "    賞蟹步道人次  1997354\n",
      "     青草湖人次  1302225\n",
      "    青青草原人次  1496827\n",
      "\n",
      "108年各據點來客總人數:\n",
      "        據點      人數\n",
      "十七公里自行車道人次  216106\n",
      "    十八尖山人次 1809331\n",
      "     城隍廟人次 2513560\n",
      "    新竹公園人次  363413\n",
      "    新竹漁港人次 3659147\n",
      "    賞蟹步道人次  250774\n",
      "     青草湖人次  197207\n",
      "    青青草原人次  385403\n"
     ]
    }
   ],
   "source": [
    "import pandas as pd\n",
    "df = pd.read_excel('新竹市重要遊憩據點遊客人次統計.xlsx')\n",
    "df = df.drop(columns=['Countycode', 'YYYMM'])\n",
    "df = df.astype('int32')\n",
    "df['民國年月']=df['民國年月'].astype('string')\n",
    "df_unpivoted = pd.melt(df, \n",
    "                      id_vars=['民國年月'],\n",
    "                      value_vars=df.columns.values[1:],\n",
    "                      var_name='據點',\n",
    "                      value_name='人數')\n",
    "df_unpivoted['據點']=df_unpivoted['據點'].astype('string')\n",
    "\n",
    "# 統計歷年來各據點的來客總人數\n",
    "# 統計108年各據點的來客總人數\n",
    "\n",
    "# 1. 統計歷年來各據點的來客總人數\n",
    "total_by_branch_year = df_unpivoted.groupby(['據點'])['人數'].sum().reset_index()\n",
    "print(\"歷年各據點來客總人數:\")\n",
    "print(total_by_branch_year.to_string(index=False))\n",
    "\n",
    "# 2. 統計108年各據點的來客總人數\n",
    "year_108_stats = df_unpivoted[df_unpivoted['民國年月'].str.slice(0,3) == '108'].groupby('據點')['人數'].sum().reset_index()\n",
    "print(\"\\n108年各據點來客總人數:\")\n",
    "print(year_108_stats.to_string(index=False))"
   ]
  },
  {
   "cell_type": "code",
   "execution_count": null,
   "id": "d68269c3-57e3-4e60-a1ad-4a99c88145b8",
   "metadata": {},
   "outputs": [],
   "source": []
  }
 ],
 "metadata": {
  "kernelspec": {
   "display_name": "Python 3 (ipykernel)",
   "language": "python",
   "name": "python3"
  },
  "language_info": {
   "codemirror_mode": {
    "name": "ipython",
    "version": 3
   },
   "file_extension": ".py",
   "mimetype": "text/x-python",
   "name": "python",
   "nbconvert_exporter": "python",
   "pygments_lexer": "ipython3",
   "version": "3.13.5"
  }
 },
 "nbformat": 4,
 "nbformat_minor": 5
}
