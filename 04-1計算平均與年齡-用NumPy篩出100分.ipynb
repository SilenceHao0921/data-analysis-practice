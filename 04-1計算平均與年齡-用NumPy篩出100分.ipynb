{
 "cells": [
  {
   "cell_type": "markdown",
   "id": "af5d13c9-6a56-4481-a70d-bd4e45a6c9de",
   "metadata": {},
   "source": [
    "# 2025/8/12 計算平均與年齡→用 NumPy 篩出 100 分"
   ]
  },
  {
   "cell_type": "code",
   "execution_count": 1,
   "id": "48848c57-3e62-4412-8daa-a1f003180399",
   "metadata": {},
   "outputs": [
    {
     "name": "stdout",
     "output_type": "stream",
     "text": [
      "['林治宏', '01', 75, 87, '1998/05/22', 81.0, 27]\n",
      "['陳建偉', '02', 60, 78, '2005/08/19', 69.0, 20]\n",
      "['鍾祖培', '03', 61, 51, '2001/01/05', 56.0, 24]\n",
      "['鄭榮仁', '04', 97, 83, '1997/09/03', 90.0, 27]\n",
      "['廖天珩', '05', 75, 75, '2002/09/15', 75.0, 22]\n",
      "['宋立群', '06', 75, 70, '2003/08/02', 72.5, 22]\n",
      "['呂文凱', '07', 67, 64, '2003/12/21', 65.5, 21]\n",
      "['吳采曄', '08', 50, 96, '1996/08/25', 73.0, 28]\n",
      "['方品絨', '09', 94, 82, '1996/02/25', 88.0, 29]\n",
      "['李界寬', '10', 69, 81, '1997/06/11', 75.0, 28]\n",
      "['古智誠', '11', 100, 98, '2001/09/03', 99.0, 23]\n",
      "['吳辰桀', '12', 91, 60, '1996/11/05', 75.5, 28]\n",
      "['楊尚謙', '13', 54, 67, '2003/02/06', 60.5, 22]\n",
      "['范佐謙', '14', 62, 59, '1997/09/16', 60.5, 27]\n",
      "['沈柏臻', '15', 87, 97, '2002/10/01', 92.0, 22]\n",
      "['陳恩生', '16', 53, 90, '2005/11/21', 71.5, 19]\n",
      "['徐豪岑', '17', 76, 63, '2004/09/25', 69.5, 20]\n",
      "['王彥傑', '18', 76, 51, '2000/05/24', 63.5, 25]\n",
      "['彭瑋翊', '19', 96, 77, '1999/07/13', 86.5, 26]\n",
      "['周哲民', '20', 92, 92, '1998/05/12', 92.0, 27]\n",
      "['陳邑溓', '21', 75, 87, '2001/11/24', 81.0, 23]\n",
      "['姜冠宏', '22', 72, 71, '1996/03/08', 71.5, 29]\n",
      "['彭明偉', '23', 71, 79, '2003/12/24', 75.0, 21]\n",
      "['詹昇諭', '24', 78, 84, '1995/02/08', 81.0, 30]\n",
      "['陳家慶', '25', 91, 70, '2000/03/06', 80.5, 25]\n",
      "['劉凡綺', '26', 50, 56, '2000/12/26', 53.0, 24]\n",
      "['黃連豐', '27', 52, 70, '2002/01/09', 61.0, 23]\n",
      "['古文晴', '28', 50, 77, '2000/09/19', 63.5, 24]\n",
      "['王文鴻', '29', 65, 60, '1995/12/07', 62.5, 29]\n",
      "['古家宇', '30', 69, 73, '1997/11/03', 71.0, 27]\n",
      "['蘇有', '31', 52, 65, '2002/01/21', 58.5, 23]\n"
     ]
    }
   ],
   "source": [
    "import numpy as np\n",
    "import matplotlib.pyplot as plt\n",
    "import datetime\n",
    "\n",
    "f = open('學生資料表.txt', 'r', encoding=\"UTF-8\")\n",
    "# print(type(f)) # <class '_io.TextIOWrapper'>\n",
    "# print(dir(f))\n",
    "data_string = f.read()\n",
    "# print(repr(a))\n",
    "f.close()\n",
    "\n",
    "# 分割字符串為行\n",
    "lines = data_string.split('\\n')\n",
    "\n",
    "# 創建學生列表（每筆資料是一個子列表）\n",
    "students = []\n",
    "\n",
    "for line in lines:\n",
    "    if line.strip():  # 確保行不為空\n",
    "        parts = line.split()\n",
    "        # 將每行數據轉換為列表並添加到students中\n",
    "        student = [\n",
    "            parts[0],       # 姓名\n",
    "            parts[1],       # 學號\n",
    "            int(parts[2]),   # 成績一\n",
    "            int(parts[3]),   # 成績二\n",
    "            parts[4]        # 生日\n",
    "        ]\n",
    "        students.append(student)\n",
    "# 動態新增平均成績元素\n",
    "for student in students:\n",
    "    student.append ( ( student[2] + student[3] ) / 2)\n",
    "\n",
    "# 動態新增年齡元素\n",
    "for student in students:\n",
    "    # step1. 把生日字串變成日期結構  'strftime'日期變字串, 'strptime'字串變日期\n",
    "    我的生日 = datetime.datetime.strptime(student[4],'%Y/%m/%d')\n",
    "    # step2. 得到今天日期結構\n",
    "    今天日期 = datetime.datetime.now()\n",
    "    # step3. 算年齡\n",
    "    age = 今天日期.year - 我的生日.year\n",
    "    # step4. 如果生日還沒過  年齡要減一\n",
    "    if 今天日期 < datetime.datetime(今天日期.year,我的生日.month,我的生日.day) :\n",
    "        age -= 1\n",
    "    student.append(age)\n",
    "\n",
    "# 打印前幾項檢查結果\n",
    "for student in students:\n",
    "    print(student)"
   ]
  },
  {
   "cell_type": "code",
   "execution_count": 3,
   "id": "eb0a4ccd-8ed1-4590-b4be-cf1063264675",
   "metadata": {},
   "outputs": [
    {
     "data": {
      "text/plain": [
       "array([['古智誠', '11', '2001/09/03']], dtype='<U32')"
      ]
     },
     "execution_count": 3,
     "metadata": {},
     "output_type": "execute_result"
    }
   ],
   "source": [
    "# 學生清單拆成字串欄位與數值欄位，再用布林遮罩挑出成績 100 分的人\n",
    "arr=np.array(students) # 把 Python 的 students（巢狀 list）轉成 numpy 陣列。\n",
    "arr\n",
    "\n",
    "arr_str = arr[: ,[0,1,4]] # 取所有列（:），以及第 0、1、4 欄 → 姓名 / 學號 / 生日。\n",
    "\n",
    "arr_num = arr[: ,[2,3,5,6]].astype(np.float64) \n",
    "# 取數值欄：成績一 / 成績二 / 平均 / 年齡 → 索引 [2,3,5,6]。\n",
    "# 原本整個 arr 是字串型別，因此先 .astype(np.float64) 轉成可計算的浮點數。\n",
    "arr_num\n",
    "\n",
    "\n",
    "con = arr_num[:,0]==100\n",
    "# 取 arr_num 的第 0 欄（對應「成績一」），與 100 比較。\n",
    "# 產生一個布林遮罩（True/False）的一維向量，形狀 (N,)：\n",
    "# True：該列的「成績一」等於 100,False：否則\n",
    "arr_str[con]"
   ]
  }
 ],
 "metadata": {
  "kernelspec": {
   "display_name": "Python 3 (ipykernel)",
   "language": "python",
   "name": "python3"
  },
  "language_info": {
   "codemirror_mode": {
    "name": "ipython",
    "version": 3
   },
   "file_extension": ".py",
   "mimetype": "text/x-python",
   "name": "python",
   "nbconvert_exporter": "python",
   "pygments_lexer": "ipython3",
   "version": "3.13.5"
  }
 },
 "nbformat": 4,
 "nbformat_minor": 5
}
